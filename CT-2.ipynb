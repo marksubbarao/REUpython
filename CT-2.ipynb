{
 "metadata": {
  "name": "",
  "signature": "sha256:05c8b0a23448c495af4fd1e9d546f3124d5b119e86e06554dd39ce7758c0ede7"
 },
 "nbformat": 3,
 "nbformat_minor": 0,
 "worksheets": [
  {
   "cells": [
    {
     "cell_type": "heading",
     "level": 1,
     "metadata": {},
     "source": [
      "CT-2: The FUNdamentals & Displaying an Astronomical Image"
     ]
    },
    {
     "cell_type": "heading",
     "level": 3,
     "metadata": {},
     "source": [
      "Step 1: Play Lightbot"
     ]
    },
    {
     "cell_type": "markdown",
     "metadata": {},
     "source": [
      "    This is a fun way to start learning the core Computer Science principles that will help you analyze and understand astronomical data.\n",
      "    After the opening visuals, click \u2018Play\u2019 on the right-hand side under the advertisement.\n",
      "    Work through all of the Basic Exercises by clicking on the leftmost square under basics; see red arrow in figure.\n",
      "    Work through the first 3 Recursion Exercises. These are a little more interesting.\n",
      "    Challenge: Try Recursion Exercise 4. This challenges your brain a bit."
     ]
    },
    {
     "cell_type": "heading",
     "level": 3,
     "metadata": {},
     "source": [
      "Step 2: Display an astronomical image in ds9."
     ]
    },
    {
     "cell_type": "markdown",
     "metadata": {},
     "source": [
      "We will use a stand alone program called DS9 to display astronomical images (DS9 stands for Deep Space 9, and yes, that's a Star Trek reference).\n",
      "\n",
      "Download ps1_image.fits to your computer. If you right-click on the link and choose \u2018Download Linked File As\u2019, you can save it directly to the work folder you created. Or, you can download it to your Desktop or Downloads folder and use your new knowledge of UNIX to move it into your work folder.\n",
      "\n",
      "Download the appropriate version of the DS9 code by clicking on:\n",
      "\n",
      "    http://tinyurl.com/cohkdxj for Windows users\n",
      "    http://tinyurl.com/cujt88v for Mac users\n",
      "\n",
      "When you click on the link, the file may download directly to your \u2018Downloads\u2019 folder. For Mac users, click on the downloaded disk image (*.dmg) and move the \u2018SAOImage DS9\u2019 file into your Applications folder. For Windows users, run the executable file (*.exe) to install.\n",
      "\n",
      "Open the application by double-clicking on the DS9 icon. This will bring up a new window. You may get a small error about a newer version existing, but clicking \u2018OK\u2019 will bring the program up.\n",
      "\n",
      "In DS9, click on file -> open and import the file ps1_image.fits which you downloaded above. You should see the image displayed in your DS9 window.\n",
      "\n",
      "Manipulate the image:\n",
      "\n",
      "    Play with the scaling of the image by clicking scale -> linear/log/etc. \n",
      "    Move your mouse over the image and notice the numbers in the upper left panel.\n",
      "    Click on zoom and zoom into the image so that you can see individual pixels.\n",
      "    Click on color and change the color scale. Note that the actual numbers in this image (the numerical \u2018Value\u2019 of each pixel) don\u2019t change.\n",
      "\n",
      "If you get error messages, don't worry! Try understanding these messages, but if they make no sense, ask your support network.\n",
      "\n",
      "Congratulations! You've completed Computational Project #2 (CT-2)."
     ]
    },
    {
     "cell_type": "code",
     "collapsed": false,
     "input": [],
     "language": "python",
     "metadata": {},
     "outputs": [],
     "prompt_number": 0
    }
   ],
   "metadata": {}
  }
 ]
}