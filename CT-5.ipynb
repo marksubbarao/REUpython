{
 "metadata": {
  "name": "",
  "signature": "sha256:a5b37913410bf3feca2d6df282b5700d5986a92fe136dc2f40227166523f3cf1"
 },
 "nbformat": 3,
 "nbformat_minor": 0,
 "worksheets": [
  {
   "cells": [
    {
     "cell_type": "heading",
     "level": 1,
     "metadata": {},
     "source": [
      "CT-5: Getting Data"
     ]
    },
    {
     "cell_type": "markdown",
     "metadata": {},
     "source": [
      "Step 1. Obtaining Star Cluster Observed Data\n",
      "\n",
      "Go to http://www.univie.ac.at/webda/navigation.html\n",
      "\n",
      "    Type M67 (or the name for any star cluster of your choice) in the box labelled 'Display the Page of the Cluster'. Hit enter.\n",
      "    Make a note of the value for this cluster's \u2018Reddening\u2019 and the \u2018Distance Modulus\u2019, listed under \u2018Basic Parameters\u2019.\n",
      "    Under \u2018Query\u2019, click 'selections on data'.\n",
      "        Note: If it doesn't say UBV at the top, then click on 'UBV' (at the left).\n",
      "    In the 'V' boxes, type 0 in 'Lower' and 20 in 'Upper'. Hit enter.\n",
      "        A list of stars and their apparent magnitudes should appear.\n",
      "    Copy these data into a text file, which you'll use later to read into your code, create plots, etc.\n",
      "    Explore the site. What other data you can download about each cluster (i.e., positions, other filter magnitudes, etc.)?\n",
      "\n",
      "This site allows you to download data from pretty much any star cluster in our galaxy that might be of interest to you. For the full list of clusters included in this site, click here. For additional information about the cluster you've chosen, look it up in NED (the NASA Extragalactic Database)\n",
      "\n",
      "General information about the history and use of WEBDA.\n",
      "\n",
      "Step 2. Obtaining Theoretical Isochrone Models to Compare with your Observed Data\n",
      "\n",
      "First, read about isochrones and how they are used to determine the age of a star cluster.\n",
      "\n",
      "Next, go to http://stev.oapd.inaf.it/cgi-bin/cmd\n",
      "\n",
      "    Use the default values under \u201cEvolutionary Tracks\u201d.\n",
      "    Make sure the photometric system is appropriate for your data (i.e., if you\u2019re using UBV data, then choose the one that starts with UBV).\n",
      "    Keep the default values for \u201cDust\u201d,\u201dExtinction\u201d, \u201cInitial Mass Function\u201d\n",
      "    Under Ages, select: Sequence of isochrones of constant metallicity...\n",
      "        Change Z=0.008 to Z=0.019 (this is the value for solar metallicity)\n",
      "        Change the age range to log(t/yr) = 6.0 to 10.0  (i.e., ages ranging from 1 million years to 10 billion years)\n",
      "    Keep the default selection for 'Output' on Isochrone Tables\n",
      "    Click submit and download the linked file named \u2018outputxxx.dat\u2019\n",
      "    Rename this file to something meaningful and place it in your work folder.\n",
      "    Look at the table you generated using Emacs. Find the rows separating the isochrone of one age from the isochrone of the next age (i.e., log[age/years] = 6 to log[age/years] = 6.5). This single file contains the full set of isochrones."
     ]
    },
    {
     "cell_type": "heading",
     "level": 6,
     "metadata": {},
     "source": [
      "Congratulations! You've completed Computational Project #5 (CT-5)."
     ]
    }
   ],
   "metadata": {}
  }
 ]
}